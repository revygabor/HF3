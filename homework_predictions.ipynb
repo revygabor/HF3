{
 "cells": [
  {
   "cell_type": "code",
   "execution_count": 1,
   "metadata": {},
   "outputs": [
    {
     "name": "stderr",
     "output_type": "stream",
     "text": [
      "Using TensorFlow backend.\n"
     ]
    }
   ],
   "source": [
    "import pickle # I'm using pickle to save the StandardScaler and the MinMaxScaler\n",
    "\n",
    "import numpy as np\n",
    "from keras.models import load_model\n",
    "\n",
    "from dataset_downloader import get_month_data # this is a function I created to download a mothly data from idojarasbudapest.hu"
   ]
  },
  {
   "cell_type": "markdown",
   "metadata": {},
   "source": [
    "I created this function to make predictions for 1/7/30 days from a given date:"
   ]
  },
  {
   "cell_type": "code",
   "execution_count": 2,
   "metadata": {},
   "outputs": [],
   "source": [
    "def make_prediction_for_n_day(n, month, day_of_month):\n",
    "    mmscaler_file = 'data/mmscaler_{}_days.sav'.format(n) \n",
    "    sscaler_file = 'data/sscaler_{}_days.sav'.format(n) \n",
    "    sscaler = pickle.load(open(sscaler_file, 'rb')) # loading the standardmaxscaler we used when training the n-days predictor\n",
    "    mmscaler = pickle.load(open(mmscaler_file, 'rb')) # loading the minmaxscaler we used when training the n-days predictor\n",
    "    \n",
    "    data = np.array(get_month_data(2018, month)) # download the data of the given month\n",
    "    data_of_day = data[day_of_month-1, 1:4] # getting the data of the desired day\n",
    "    data_of_day = sscaler.transform(data_of_day.reshape(1, -1)) # we trsansform it using standardcaler\n",
    "    \n",
    "    model = load_model('data/model_{}_days'.format(n)) # we load the model trained before\n",
    "    prediction = model.predict(data_of_day) # making prediction\n",
    "    mean_temperature = mmscaler.inverse_transform(prediction) # inverse transforming the prediction\n",
    "    \n",
    "    return float(mean_temperature)\n",
    "    "
   ]
  },
  {
   "cell_type": "markdown",
   "metadata": {},
   "source": [
    "### Making predictions for 26. october, 1. november and 29. november. \n",
    "For this we download the data of 25. october and predict for 1, 7 and 30 days."
   ]
  },
  {
   "cell_type": "code",
   "execution_count": 4,
   "metadata": {
    "collapsed": true
   },
   "outputs": [
    {
     "ename": "IndexError",
     "evalue": "index 24 is out of bounds for axis 0 with size 24",
     "traceback": [
      "\u001b[1;31m---------------------------------------------------------------------------\u001b[0m",
      "\u001b[1;31mIndexError\u001b[0m                                Traceback (most recent call last)",
      "\u001b[1;32m<ipython-input-4-234ff9e57d37>\u001b[0m in \u001b[0;36m<module>\u001b[1;34m()\u001b[0m\n\u001b[1;32m----> 1\u001b[1;33m \u001b[0mt_mean_26_oct\u001b[0m \u001b[1;33m=\u001b[0m \u001b[0mmake_prediction_for_n_day\u001b[0m\u001b[1;33m(\u001b[0m\u001b[1;36m1\u001b[0m\u001b[1;33m,\u001b[0m \u001b[1;34m'10'\u001b[0m\u001b[1;33m,\u001b[0m \u001b[1;36m25\u001b[0m\u001b[1;33m)\u001b[0m\u001b[1;33m\u001b[0m\u001b[0m\n\u001b[0m\u001b[0;32m      2\u001b[0m \u001b[0mt_mean_1_nov\u001b[0m \u001b[1;33m=\u001b[0m \u001b[0mmake_prediction_for_n_day\u001b[0m\u001b[1;33m(\u001b[0m\u001b[1;36m7\u001b[0m\u001b[1;33m,\u001b[0m \u001b[1;34m'10'\u001b[0m\u001b[1;33m,\u001b[0m \u001b[1;36m25\u001b[0m\u001b[1;33m)\u001b[0m\u001b[1;33m\u001b[0m\u001b[0m\n\u001b[0;32m      3\u001b[0m \u001b[0mt_mean_29_nov\u001b[0m \u001b[1;33m=\u001b[0m \u001b[0mmake_prediction_for_n_day\u001b[0m\u001b[1;33m(\u001b[0m\u001b[1;36m30\u001b[0m\u001b[1;33m,\u001b[0m \u001b[1;34m'10'\u001b[0m\u001b[1;33m,\u001b[0m \u001b[1;36m25\u001b[0m\u001b[1;33m)\u001b[0m\u001b[1;33m\u001b[0m\u001b[0m\n\u001b[0;32m      4\u001b[0m \u001b[1;33m\u001b[0m\u001b[0m\n\u001b[0;32m      5\u001b[0m \u001b[0mprint\u001b[0m\u001b[1;33m(\u001b[0m\u001b[1;34m'The mean temperature on 26. october  will be {0:.2f}°C'\u001b[0m\u001b[1;33m.\u001b[0m\u001b[0mformat\u001b[0m\u001b[1;33m(\u001b[0m\u001b[0mt_mean_26_oct\u001b[0m\u001b[1;33m)\u001b[0m\u001b[1;33m)\u001b[0m\u001b[1;33m\u001b[0m\u001b[0m\n",
      "\u001b[1;32m<ipython-input-2-9fbd2b00394e>\u001b[0m in \u001b[0;36mmake_prediction_for_n_day\u001b[1;34m(n, month, day_of_month)\u001b[0m\n\u001b[0;32m      6\u001b[0m \u001b[1;33m\u001b[0m\u001b[0m\n\u001b[0;32m      7\u001b[0m     \u001b[0mdata\u001b[0m \u001b[1;33m=\u001b[0m \u001b[0mnp\u001b[0m\u001b[1;33m.\u001b[0m\u001b[0marray\u001b[0m\u001b[1;33m(\u001b[0m\u001b[0mget_month_data\u001b[0m\u001b[1;33m(\u001b[0m\u001b[1;36m2018\u001b[0m\u001b[1;33m,\u001b[0m \u001b[0mmonth\u001b[0m\u001b[1;33m)\u001b[0m\u001b[1;33m)\u001b[0m \u001b[1;31m# download the data of the given month\u001b[0m\u001b[1;33m\u001b[0m\u001b[0m\n\u001b[1;32m----> 8\u001b[1;33m     \u001b[0mdata_of_day\u001b[0m \u001b[1;33m=\u001b[0m \u001b[0mdata\u001b[0m\u001b[1;33m[\u001b[0m\u001b[0mday_of_month\u001b[0m\u001b[1;33m-\u001b[0m\u001b[1;36m1\u001b[0m\u001b[1;33m,\u001b[0m \u001b[1;36m1\u001b[0m\u001b[1;33m:\u001b[0m\u001b[1;36m4\u001b[0m\u001b[1;33m]\u001b[0m \u001b[1;31m# getting the data of the desired day\u001b[0m\u001b[1;33m\u001b[0m\u001b[0m\n\u001b[0m\u001b[0;32m      9\u001b[0m     \u001b[0mdata_of_day\u001b[0m \u001b[1;33m=\u001b[0m \u001b[0msscaler\u001b[0m\u001b[1;33m.\u001b[0m\u001b[0mtransform\u001b[0m\u001b[1;33m(\u001b[0m\u001b[0mdata_of_day\u001b[0m\u001b[1;33m.\u001b[0m\u001b[0mreshape\u001b[0m\u001b[1;33m(\u001b[0m\u001b[1;36m1\u001b[0m\u001b[1;33m,\u001b[0m \u001b[1;33m-\u001b[0m\u001b[1;36m1\u001b[0m\u001b[1;33m)\u001b[0m\u001b[1;33m)\u001b[0m \u001b[1;31m# we trsansform it using standardcaler\u001b[0m\u001b[1;33m\u001b[0m\u001b[0m\n\u001b[0;32m     10\u001b[0m \u001b[1;33m\u001b[0m\u001b[0m\n",
      "\u001b[1;31mIndexError\u001b[0m: index 24 is out of bounds for axis 0 with size 24"
     ],
     "output_type": "error"
    }
   ],
   "source": [
    "t_mean_26_oct = make_prediction_for_n_day(1, '10', 25)\n",
    "t_mean_1_nov = make_prediction_for_n_day(7, '10', 25)\n",
    "t_mean_29_nov = make_prediction_for_n_day(30, '10', 25)\n",
    "\n",
    "print('The mean temperature on 26th october  will be {0:.2f}°C'.format(t_mean_26_oct))\n",
    "print('The mean temperature on 1st  november will be {0:.2f}°C'.format(t_mean_1_nov))\n",
    "print('The mean temperature on 29th november will be {0:.2f}°C'.format(t_mean_29_nov))"
   ]
  },
  {
   "cell_type": "markdown",
   "metadata": {},
   "source": [
    "Since I tried to run it on 25th october, it doesn't run but it will run the days after."
   ]
  }
 ],
 "metadata": {
  "kernelspec": {
   "display_name": "Python 3",
   "language": "python",
   "name": "python3"
  },
  "language_info": {
   "codemirror_mode": {
    "name": "ipython",
    "version": 3
   },
   "file_extension": ".py",
   "mimetype": "text/x-python",
   "name": "python",
   "nbconvert_exporter": "python",
   "pygments_lexer": "ipython3",
   "version": "3.5.2"
  }
 },
 "nbformat": 4,
 "nbformat_minor": 2
}
