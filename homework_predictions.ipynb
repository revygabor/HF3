{
 "cells": [
  {
   "cell_type": "code",
   "execution_count": 1,
   "metadata": {},
   "outputs": [
    {
     "name": "stderr",
     "output_type": "stream",
     "text": [
      "Using TensorFlow backend.\n"
     ]
    }
   ],
   "source": [
    "import pickle # I'm using pickle to save the StandardScaler and the MinMaxScaler\n",
    "\n",
    "import numpy as np\n",
    "from keras.models import load_model\n",
    "\n",
    "from dataset_downloader import get_month_data # this is a function I created to download a mothly data from idojarasbudapest.hu"
   ]
  },
  {
   "cell_type": "markdown",
   "metadata": {},
   "source": [
    "I created this function to make predictions for 1/7/30 days from a given date:"
   ]
  },
  {
   "cell_type": "code",
   "execution_count": 2,
   "metadata": {},
   "outputs": [],
   "source": [
    "def make_prediction_for_n_day(n, month, day_of_month):\n",
    "    mmscaler_file = 'data/mmscaler_{}_days.sav'.format(n) \n",
    "    sscaler_file = 'data/sscaler_{}_days.sav'.format(n) \n",
    "    sscaler = pickle.load(open(sscaler_file, 'rb')) # loading the standardmaxscaler we used when training the n-days predictor\n",
    "    mmscaler = pickle.load(open(mmscaler_file, 'rb')) # loading the minmaxscaler we used when training the n-days predictor\n",
    "    \n",
    "    data = np.array(get_month_data(2018, month)) # download the data of the given month\n",
    "    data_of_day = data[day_of_month-1, 1:4] # getting the data of the desired day\n",
    "    data_of_day = sscaler.transform(data_of_day.reshape(1, -1)) # we trsansform it using standardcaler\n",
    "    \n",
    "    model = load_model('data/model_{}_days'.format(n)) # we load the model trained before\n",
    "    prediction = model.predict(data_of_day) # making prediction\n",
    "    mean_temperature = mmscaler.inverse_transform(prediction) # inverse transforming the prediction\n",
    "    \n",
    "    return float(mean_temperature)\n",
    "    "
   ]
  },
  {
   "cell_type": "markdown",
   "metadata": {},
   "source": [
    "### Making predictions for 26. october, 1. november and 29. november. \n",
    "For this we download the data of 25. october and predict for 1, 7 and 30 days."
   ]
  },
  {
   "cell_type": "code",
   "execution_count": 3,
   "metadata": {},
   "outputs": [
    {
     "name": "stderr",
     "output_type": "stream",
     "text": [
      "A:\\PortableApps\\WinPython\\python-3.6.5.amd64\\lib\\site-packages\\sklearn\\utils\\validation.py:475: DataConversionWarning: Data with input dtype object was converted to float64 by StandardScaler.\n  warnings.warn(msg, DataConversionWarning)\n"
     ]
    },
    {
     "name": "stdout",
     "output_type": "stream",
     "text": [
      "The mean temperature on 26. october  will be 8.48°C\nThe mean temperature on 1.  november will be 7.21°C\nThe mean temperature on 29. november will be 11.49°C\n"
     ]
    }
   ],
   "source": [
    "t_mean_26_oct = make_prediction_for_n_day(1, '10', 25)\n",
    "t_mean_1_nov = make_prediction_for_n_day(7, '10', 25)\n",
    "t_mean_29_nov = make_prediction_for_n_day(30, '10', 25)\n",
    "\n",
    "print('The mean temperature on 26. october  will be {0:.2f}°C'.format(t_mean_26_oct))\n",
    "print('The mean temperature on 1.  november will be {0:.2f}°C'.format(t_mean_1_nov))\n",
    "print('The mean temperature on 29. november will be {0:.2f}°C'.format(t_mean_29_nov))"
   ]
  }
 ],
 "metadata": {
  "kernelspec": {
   "display_name": "Python 3",
   "language": "python",
   "name": "python3"
  },
  "language_info": {
   "codemirror_mode": {
    "name": "ipython",
    "version": 3
   },
   "file_extension": ".py",
   "mimetype": "text/x-python",
   "name": "python",
   "nbconvert_exporter": "python",
   "pygments_lexer": "ipython3",
   "version": "3.5.2"
  }
 },
 "nbformat": 4,
 "nbformat_minor": 2
}
